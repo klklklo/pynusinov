{
  "cells": [
    {
      "cell_type": "code",
      "execution_count": null,
      "metadata": {
        "colab": {
          "base_uri": "https://localhost:8080/"
        },
        "id": "PQNHZz5XJKDo",
        "outputId": "bda908f7-7362-406e-8332-32f2efd8c226"
      },
      "outputs": [],
      "source": [
        "! python3 -m pip install pynusinov"
      ]
    },
    {
      "cell_type": "code",
      "execution_count": 3,
      "metadata": {
        "id": "asX-6I_nOdP7"
      },
      "outputs": [],
      "source": [
        "# (1) Importing the EUVT model into the current namespace\n",
        "from pynusinov import Euvt2021\n",
        "\n",
        "# (2) Creating an instance of the EUVT model\n",
        "euvt = Euvt2021()\n",
        "\n",
        "# (3) Calculating spectral bands\n",
        "bands, lines = euvt.get_spectra(lac=4.7)"
      ]
    },
    {
      "cell_type": "code",
      "execution_count": null,
      "metadata": {
        "colab": {
          "base_uri": "https://localhost:8080/"
        },
        "id": "Gz2Aqkv4X0Id",
        "outputId": "d93c141e-74eb-402a-cc6e-49b0c5bb4ea8"
      },
      "outputs": [],
      "source": [
        "# (4) --\n",
        "print(lines)"
      ]
    },
    {
      "cell_type": "code",
      "execution_count": null,
      "metadata": {
        "colab": {
          "base_uri": "https://localhost:8080/"
        },
        "id": "tPFTFtVQX4Ho",
        "outputId": "9d19c720-ee16-4c45-ba09-2be1445c760c"
      },
      "outputs": [],
      "source": [
        "# (5) --\n",
        "print(bands)"
      ]
    },
    {
      "cell_type": "code",
      "execution_count": null,
      "metadata": {
        "colab": {
          "base_uri": "https://localhost:8080/",
          "height": 509
        },
        "id": "JkXnlOIGORKa",
        "outputId": "c4bc1ae1-2f03-46d9-fac7-ecb5d48b6896"
      },
      "outputs": [],
      "source": [
        "# (6) Importing modules required to preprocess and plot EUV-bands\n",
        "import numpy as np\n",
        "import matplotlib.pyplot as plt\n",
        "import seaborn as sns; sns.set_theme()\n",
        "\n",
        "# (7) Taking wavelength intervals and a flux as numpy arrays\n",
        "lband = bands['lband'].to_numpy()\n",
        "uband = bands['uband'].to_numpy()\n",
        "euv_flux = bands['euv_flux_spectra'].to_numpy()\n",
        "\n",
        "# (8) Converting the euv_flux array to 1D\n",
        "#     for passing it to the plotting routine\n",
        "euv_flux = euv_flux.flatten()\n",
        "\n",
        "# (9) Making an array holding coordinates of all 'edges'\n",
        "spectrum_edges = np.hstack([lband, uband[-1]])\n",
        "\n",
        "# (10) --\n",
        "plt.xlabel(r'Wavelength $\\lambda$, $[nm]$')\n",
        "plt.xticks(spectrum_edges, rotation=35)\n",
        "plt.ylabel(r'Flux density $N_\\lambda$ , $[m^{-2} \\cdot s^{-1}]$')\n",
        "plt.stairs(values=euv_flux, edges=spectrum_edges, fill=True)"
      ]
    },
    {
      "cell_type": "code",
      "execution_count": null,
      "metadata": {
        "colab": {
          "base_uri": "https://localhost:8080/"
        },
        "id": "kHmkmQfuJNgS",
        "outputId": "f0843451-820b-48f5-c9ca-736f863311ca"
      },
      "outputs": [],
      "source": [
        "# (11) Importing the FUVT model into a current namespace\n",
        "from pynusinov import Fuvt2021\n",
        "\n",
        "# (12) Creating an instance of the FUVT model\n",
        "fuvt = Fuvt2021()\n",
        "\n",
        "# (13) Calculating FUV flux spectral bands\n",
        "fuv_flux = fuvt.get_spectral_bands(lac=4.2)\n",
        "\n",
        "# (14) --\n",
        "print(fuv_flux)"
      ]
    }
  ],
  "metadata": {
    "colab": {
      "provenance": []
    },
    "kernelspec": {
      "display_name": "Python 3",
      "name": "python3"
    },
    "language_info": {
      "name": "python"
    }
  },
  "nbformat": 4,
  "nbformat_minor": 0
}
